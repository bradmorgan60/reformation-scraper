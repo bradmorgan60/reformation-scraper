{
 "cells": [
  {
   "cell_type": "code",
   "execution_count": 105,
   "id": "c62dd6af-5b0b-49bc-9e7f-90538f31ee1f",
   "metadata": {},
   "outputs": [],
   "source": [
    "import pandas as pd\n",
    "import matplotlib.pyplot as plt"
   ]
  },
  {
   "cell_type": "code",
   "execution_count": 106,
   "id": "f2ce6c84-f237-41a1-b3ca-8f037a39bcd6",
   "metadata": {},
   "outputs": [],
   "source": [
    "df = pd.read_csv('ReformationAllLoc.csv')"
   ]
  },
  {
   "cell_type": "code",
   "execution_count": 107,
   "id": "eacf3123-eed6-4441-9409-92f5983fd838",
   "metadata": {},
   "outputs": [
    {
     "data": {
      "text/html": [
       "<div>\n",
       "<style scoped>\n",
       "    .dataframe tbody tr th:only-of-type {\n",
       "        vertical-align: middle;\n",
       "    }\n",
       "\n",
       "    .dataframe tbody tr th {\n",
       "        vertical-align: top;\n",
       "    }\n",
       "\n",
       "    .dataframe thead th {\n",
       "        text-align: right;\n",
       "    }\n",
       "</style>\n",
       "<table border=\"1\" class=\"dataframe\">\n",
       "  <thead>\n",
       "    <tr style=\"text-align: right;\">\n",
       "      <th></th>\n",
       "      <th>Location</th>\n",
       "      <th>Beer Name</th>\n",
       "      <th>Style</th>\n",
       "      <th>Generic Style</th>\n",
       "      <th>ABV</th>\n",
       "      <th>Link</th>\n",
       "    </tr>\n",
       "  </thead>\n",
       "  <tbody>\n",
       "    <tr>\n",
       "      <th>0</th>\n",
       "      <td>SMYRNA</td>\n",
       "      <td>JOGR</td>\n",
       "      <td>Juicy Lager</td>\n",
       "      <td>Juicy Lager</td>\n",
       "      <td>4.90%</td>\n",
       "      <td>https://reformationbrewery.com/beers/jogr/</td>\n",
       "    </tr>\n",
       "    <tr>\n",
       "      <th>1</th>\n",
       "      <td>SMYRNA</td>\n",
       "      <td>Oren</td>\n",
       "      <td>Pale Ale - American</td>\n",
       "      <td>Pale Ale</td>\n",
       "      <td>5%</td>\n",
       "      <td>https://reformationbrewery.com/beers/oren-pal...</td>\n",
       "    </tr>\n",
       "    <tr>\n",
       "      <th>2</th>\n",
       "      <td>SMYRNA</td>\n",
       "      <td>A Cold One</td>\n",
       "      <td>Lager - Pale</td>\n",
       "      <td>Lager</td>\n",
       "      <td>4.40%</td>\n",
       "      <td>https://reformationbrewery.com/beers/a-cold-o...</td>\n",
       "    </tr>\n",
       "    <tr>\n",
       "      <th>3</th>\n",
       "      <td>SMYRNA</td>\n",
       "      <td>Silver Comet – Nolan V.10</td>\n",
       "      <td>IPA - New England</td>\n",
       "      <td>IPA</td>\n",
       "      <td>7.20%</td>\n",
       "      <td>https://reformationbrewery.com/beers/silver-c...</td>\n",
       "    </tr>\n",
       "    <tr>\n",
       "      <th>4</th>\n",
       "      <td>SMYRNA</td>\n",
       "      <td>Jude</td>\n",
       "      <td>Belgian-Style Tripel</td>\n",
       "      <td>Belgian</td>\n",
       "      <td>9.20%</td>\n",
       "      <td>https://reformationbrewery.com/beers/jude/</td>\n",
       "    </tr>\n",
       "  </tbody>\n",
       "</table>\n",
       "</div>"
      ],
      "text/plain": [
       "  Location                   Beer Name                  Style Generic Style  \\\n",
       "0   SMYRNA                        JOGR            Juicy Lager   Juicy Lager   \n",
       "1   SMYRNA                        Oren    Pale Ale - American     Pale Ale    \n",
       "2   SMYRNA                  A Cold One           Lager - Pale        Lager    \n",
       "3   SMYRNA   Silver Comet – Nolan V.10      IPA - New England          IPA    \n",
       "4   SMYRNA                        Jude   Belgian-Style Tripel       Belgian   \n",
       "\n",
       "     ABV                                              Link   \n",
       "0  4.90%        https://reformationbrewery.com/beers/jogr/   \n",
       "1     5%   https://reformationbrewery.com/beers/oren-pal...  \n",
       "2  4.40%   https://reformationbrewery.com/beers/a-cold-o...  \n",
       "3  7.20%   https://reformationbrewery.com/beers/silver-c...  \n",
       "4  9.20%        https://reformationbrewery.com/beers/jude/   "
      ]
     },
     "execution_count": 107,
     "metadata": {},
     "output_type": "execute_result"
    }
   ],
   "source": [
    "df.head()"
   ]
  },
  {
   "cell_type": "code",
   "execution_count": 108,
   "id": "617473b1-86ba-45a5-a833-c6cd1c600118",
   "metadata": {},
   "outputs": [
    {
     "name": "stdout",
     "output_type": "stream",
     "text": [
      "Location\n",
      "Beer Name\n",
      "Style\n",
      "Generic Style\n",
      "ABV\n",
      "Link \n"
     ]
    }
   ],
   "source": [
    "for i in df.columns:\n",
    "    print(i)"
   ]
  },
  {
   "cell_type": "code",
   "execution_count": 133,
   "id": "4c00c79c-37c8-4b40-8c2a-1f57f4e48ee4",
   "metadata": {},
   "outputs": [
    {
     "data": {
      "text/plain": [
       "array([' Juicy Lager', ' Pale Ale ', ' Lager ', ' IPA ', ' Belgian',\n",
       "       ' Belgian Dubbel', ' Wheat Beer ', ' Belgian Tripel',\n",
       "       ' Hard Seltzer', ' Sour ', ' Toasted Porter', ' Milk Stout',\n",
       "       ' Stout ', ' Pecan Doppelbock', ' Saison',\n",
       "       ' Citra Hopped New England IPA', ' Farmhouse Ale ', ' Pilsner ',\n",
       "       ' Bière de Champagne / Bière Brut',\n",
       "       ' Blackberry & Blueberry Lemonade Sour',\n",
       "       ' BA Coffee Porter w/Vanilla', ' Gluten', ' Sour with White Tea'],\n",
       "      dtype=object)"
      ]
     },
     "execution_count": 133,
     "metadata": {},
     "output_type": "execute_result"
    }
   ],
   "source": [
    "df[\"Generic Style\"].unique()"
   ]
  },
  {
   "cell_type": "code",
   "execution_count": 132,
   "id": "3ad2923a-0929-4feb-b488-58c9c40c6c0d",
   "metadata": {},
   "outputs": [
    {
     "data": {
      "text/html": [
       "<div>\n",
       "<style scoped>\n",
       "    .dataframe tbody tr th:only-of-type {\n",
       "        vertical-align: middle;\n",
       "    }\n",
       "\n",
       "    .dataframe tbody tr th {\n",
       "        vertical-align: top;\n",
       "    }\n",
       "\n",
       "    .dataframe thead th {\n",
       "        text-align: right;\n",
       "    }\n",
       "</style>\n",
       "<table border=\"1\" class=\"dataframe\">\n",
       "  <thead>\n",
       "    <tr style=\"text-align: right;\">\n",
       "      <th></th>\n",
       "      <th>Location</th>\n",
       "      <th>Beer Name</th>\n",
       "      <th>Style</th>\n",
       "      <th>Generic Style</th>\n",
       "      <th>ABV</th>\n",
       "      <th>Link</th>\n",
       "    </tr>\n",
       "  </thead>\n",
       "  <tbody>\n",
       "    <tr>\n",
       "      <th>48</th>\n",
       "      <td>WOODSTOCK</td>\n",
       "      <td>Batch #4</td>\n",
       "      <td>IPA - American</td>\n",
       "      <td>IPA</td>\n",
       "      <td>6.80%</td>\n",
       "      <td>https://reformationbrewery.com/beers/batch-4/</td>\n",
       "    </tr>\n",
       "    <tr>\n",
       "      <th>49</th>\n",
       "      <td>WOODSTOCK</td>\n",
       "      <td>Nolan the Wanderer | Rotating IPA Series</td>\n",
       "      <td>IPA - American</td>\n",
       "      <td>IPA</td>\n",
       "      <td>7.20%</td>\n",
       "      <td>https://reformationbrewery.com/beers/nolan-th...</td>\n",
       "    </tr>\n",
       "    <tr>\n",
       "      <th>57</th>\n",
       "      <td>WOODSTOCK</td>\n",
       "      <td>Big Dippa</td>\n",
       "      <td>IPA - Imperial / Double</td>\n",
       "      <td>IPA</td>\n",
       "      <td>8.50%</td>\n",
       "      <td>https://reformationbrewery.com/beers/big-dippa/</td>\n",
       "    </tr>\n",
       "    <tr>\n",
       "      <th>62</th>\n",
       "      <td>WOODSTOCK</td>\n",
       "      <td>Silver Comet – Nolan V.10</td>\n",
       "      <td>IPA - New England</td>\n",
       "      <td>IPA</td>\n",
       "      <td>7.20%</td>\n",
       "      <td>https://reformationbrewery.com/beers/silver-c...</td>\n",
       "    </tr>\n",
       "    <tr>\n",
       "      <th>65</th>\n",
       "      <td>WOODSTOCK</td>\n",
       "      <td>On A New Level</td>\n",
       "      <td>IPA - American</td>\n",
       "      <td>IPA</td>\n",
       "      <td>6.20%</td>\n",
       "      <td>https://reformationbrewery.com/beers/on-a-new...</td>\n",
       "    </tr>\n",
       "    <tr>\n",
       "      <th>70</th>\n",
       "      <td>WOODSTOCK</td>\n",
       "      <td>Peachy Keen | Milkshake IPA</td>\n",
       "      <td>IPA - Milkshake</td>\n",
       "      <td>IPA</td>\n",
       "      <td>6.60%</td>\n",
       "      <td>https://reformationbrewery.com/beers/peachy-k...</td>\n",
       "    </tr>\n",
       "  </tbody>\n",
       "</table>\n",
       "</div>"
      ],
      "text/plain": [
       "     Location                                  Beer Name  \\\n",
       "48  WOODSTOCK                                   Batch #4   \n",
       "49  WOODSTOCK   Nolan the Wanderer | Rotating IPA Series   \n",
       "57  WOODSTOCK                                  Big Dippa   \n",
       "62  WOODSTOCK                  Silver Comet – Nolan V.10   \n",
       "65  WOODSTOCK                             On A New Level   \n",
       "70  WOODSTOCK                Peachy Keen | Milkshake IPA   \n",
       "\n",
       "                       Style Generic Style    ABV  \\\n",
       "48            IPA - American          IPA   6.80%   \n",
       "49            IPA - American          IPA   7.20%   \n",
       "57   IPA - Imperial / Double          IPA   8.50%   \n",
       "62         IPA - New England          IPA   7.20%   \n",
       "65            IPA - American          IPA   6.20%   \n",
       "70           IPA - Milkshake          IPA   6.60%   \n",
       "\n",
       "                                                Link   \n",
       "48     https://reformationbrewery.com/beers/batch-4/   \n",
       "49   https://reformationbrewery.com/beers/nolan-th...  \n",
       "57   https://reformationbrewery.com/beers/big-dippa/   \n",
       "62   https://reformationbrewery.com/beers/silver-c...  \n",
       "65   https://reformationbrewery.com/beers/on-a-new...  \n",
       "70   https://reformationbrewery.com/beers/peachy-k...  "
      ]
     },
     "execution_count": 132,
     "metadata": {},
     "output_type": "execute_result"
    }
   ],
   "source": [
    "df[\"Generic Style\"].unique()\n",
    "df[(df[\"Location\"] == \"WOODSTOCK\") & (df[\"Generic Style\"] == \" IPA \")]"
   ]
  },
  {
   "cell_type": "code",
   "execution_count": 140,
   "id": "ca3f6d09-d70f-4a88-a044-bf7e4468d4d0",
   "metadata": {},
   "outputs": [
    {
     "data": {
      "text/html": [
       "<div>\n",
       "<style scoped>\n",
       "    .dataframe tbody tr th:only-of-type {\n",
       "        vertical-align: middle;\n",
       "    }\n",
       "\n",
       "    .dataframe tbody tr th {\n",
       "        vertical-align: top;\n",
       "    }\n",
       "\n",
       "    .dataframe thead th {\n",
       "        text-align: right;\n",
       "    }\n",
       "</style>\n",
       "<table border=\"1\" class=\"dataframe\">\n",
       "  <thead>\n",
       "    <tr style=\"text-align: right;\">\n",
       "      <th></th>\n",
       "      <th>Location</th>\n",
       "      <th>Beer Name</th>\n",
       "      <th>Style</th>\n",
       "      <th>Generic Style</th>\n",
       "      <th>ABV</th>\n",
       "      <th>Link</th>\n",
       "    </tr>\n",
       "  </thead>\n",
       "  <tbody>\n",
       "  </tbody>\n",
       "</table>\n",
       "</div>"
      ],
      "text/plain": [
       "Empty DataFrame\n",
       "Columns: [Location, Beer Name, Style, Generic Style, ABV, Link ]\n",
       "Index: []"
      ]
     },
     "execution_count": 140,
     "metadata": {},
     "output_type": "execute_result"
    }
   ],
   "source": [
    "df[(df[\"Location\"] == \"WOODSTOCK\") & (df[\"ABV\"] == float(6.5))]"
   ]
  },
  {
   "cell_type": "code",
   "execution_count": 110,
   "id": "8506d59e-e4c4-45c0-9a47-ad27b8166dc4",
   "metadata": {},
   "outputs": [
    {
     "data": {
      "text/plain": [
       "array(['SMYRNA', 'CANTON', 'WOODSTOCK'], dtype=object)"
      ]
     },
     "execution_count": 110,
     "metadata": {},
     "output_type": "execute_result"
    }
   ],
   "source": [
    "df[\"Location\"].unique()"
   ]
  },
  {
   "cell_type": "code",
   "execution_count": 111,
   "id": "cd41159b-3b87-4168-82ad-ac93dc070745",
   "metadata": {},
   "outputs": [
    {
     "data": {
      "text/plain": [
       "WOODSTOCK    28\n",
       "CANTON       24\n",
       "SMYRNA       20\n",
       "Name: Location, dtype: int64"
      ]
     },
     "execution_count": 111,
     "metadata": {},
     "output_type": "execute_result"
    }
   ],
   "source": [
    "df[\"Location\"].value_counts()"
   ]
  },
  {
   "cell_type": "code",
   "execution_count": 91,
   "id": "029c2d7f-4ffe-4fb2-b6e7-18b9eac34cc4",
   "metadata": {},
   "outputs": [],
   "source": [
    "Woodstock = df[df[\"Location\"] == \"WOODSTOCK\"]"
   ]
  },
  {
   "cell_type": "code",
   "execution_count": 92,
   "id": "2bdf2072-815c-4e50-b8d0-d224d0fe99fa",
   "metadata": {},
   "outputs": [
    {
     "data": {
      "text/plain": [
       "Location     object\n",
       "Beer Name    object\n",
       "Style        object\n",
       "ABV          object\n",
       "Link         object\n",
       "dtype: object"
      ]
     },
     "execution_count": 92,
     "metadata": {},
     "output_type": "execute_result"
    }
   ],
   "source": [
    "Woodstock.dtypes"
   ]
  },
  {
   "cell_type": "code",
   "execution_count": 124,
   "id": "1019e819-8bf4-41b9-9f73-f6aa74536998",
   "metadata": {},
   "outputs": [
    {
     "data": {
      "text/plain": [
       " IPA - American                          3\n",
       " Bière de Champagne / Bière Brut         2\n",
       " Farmhouse Ale - Saison                  2\n",
       " Pale Ale - American                     2\n",
       " IPA - New England                       1\n",
       " IPA - Imperial / Double                 1\n",
       " Lager - Pale                            1\n",
       " Wheat Beer - Wheat Wine                 1\n",
       " Sour - Fruited                          1\n",
       " Gluten-Free                             1\n",
       " Belgian Dubbel                          1\n",
       " IPA - Milkshake                         1\n",
       " Blackberry & Blueberry Lemonade Sour    1\n",
       " Juicy Lager                             1\n",
       " Stout - Russian Imperial                1\n",
       " BA Coffee Porter w/Vanilla              1\n",
       " Wheat Beer - Witbier                    1\n",
       " Belgian Tripel                          1\n",
       " Toasted Porter                          1\n",
       " Belgian-Style Tripel                    1\n",
       " Pecan Doppelbock                        1\n",
       " Hard Seltzer                            1\n",
       " Sour with White Tea                     1\n",
       "Name: Style, dtype: int64"
      ]
     },
     "execution_count": 124,
     "metadata": {},
     "output_type": "execute_result"
    }
   ],
   "source": [
    "Woodstock[\"Style\"].value_counts()"
   ]
  },
  {
   "cell_type": "code",
   "execution_count": 94,
   "id": "1e64ec63-83e9-45ea-ba77-d930b9313f75",
   "metadata": {},
   "outputs": [
    {
     "data": {
      "text/plain": [
       "<AxesSubplot:>"
      ]
     },
     "execution_count": 94,
     "metadata": {},
     "output_type": "execute_result"
    },
    {
     "data": {
      "image/png": "[encoded data removed]",
      "text/plain": [
       "<Figure size 432x288 with 1 Axes>"
      ]
     },
     "metadata": {
      "needs_background": "light"
     },
     "output_type": "display_data"
    }
   ],
   "source": [
    "Woodstock[\"Style\"].value_counts().plot(kind=\"barh\")"
   ]
  },
  {
   "cell_type": "code",
   "execution_count": 104,
   "id": "7ea5f1a7-ab63-4367-b27d-baff45a9cc61",
   "metadata": {},
   "outputs": [
    {
     "ename": "SyntaxError",
     "evalue": "positional argument follows keyword argument (<ipython-input-104-a76751944a83>, line 1)",
     "output_type": "error",
     "traceback": [
      "\u001b[0;36m  File \u001b[0;32m\"<ipython-input-104-a76751944a83>\"\u001b[0;36m, line \u001b[0;32m1\u001b[0m\n\u001b[0;31m    Woodstock[\"ABV\"].plot(kind='bar', figsize(14,6))\u001b[0m\n\u001b[0m                                                   ^\u001b[0m\n\u001b[0;31mSyntaxError\u001b[0m\u001b[0;31m:\u001b[0m positional argument follows keyword argument\n"
     ]
    }
   ],
   "source": [
    "Woodstock[\"ABV\"].plot(kind='bar', figsize(14,6))\n",
    "plt.xlabel(\"Beer\")\n",
    "plt.ylabel(\"ABV\")"
   ]
  },
  {
   "cell_type": "code",
   "execution_count": null,
   "id": "4b17cb14-7d7f-4038-8d90-c1e2ea1ada7b",
   "metadata": {},
   "outputs": [],
   "source": []
  },
  {
   "cell_type": "code",
   "execution_count": null,
   "id": "64522a8a-9038-4108-a8dd-68bd5373fd04",
   "metadata": {},
   "outputs": [],
   "source": []
  }
 ],
 "metadata": {
  "kernelspec": {
   "display_name": "Python 3",
   "language": "python",
   "name": "python3"
  },
  "language_info": {
   "codemirror_mode": {
    "name": "ipython",
    "version": 3
   },
   "file_extension": ".py",
   "mimetype": "text/x-python",
   "name": "python",
   "nbconvert_exporter": "python",
   "pygments_lexer": "ipython3",
   "version": "3.9.5"
  }
 },
 "nbformat": 4,
 "nbformat_minor": 5
}
