{
 "cells": [
  {
   "cell_type": "code",
   "execution_count": 82,
   "id": "c62dd6af-5b0b-49bc-9e7f-90538f31ee1f",
   "metadata": {},
   "outputs": [],
   "source": [
    "import pandas as pd\n",
    "import matplotlib.pyplot as plt"
   ]
  },
  {
   "cell_type": "code",
   "execution_count": 83,
   "id": "f2ce6c84-f237-41a1-b3ca-8f037a39bcd6",
   "metadata": {},
   "outputs": [],
   "source": [
    "df = pd.read_csv('ReformationAllLoc.csv')"
   ]
  },
  {
   "cell_type": "code",
   "execution_count": 84,
   "id": "eacf3123-eed6-4441-9409-92f5983fd838",
   "metadata": {},
   "outputs": [
    {
     "data": {
      "text/html": [
       "<div>\n",
       "<style scoped>\n",
       "    .dataframe tbody tr th:only-of-type {\n",
       "        vertical-align: middle;\n",
       "    }\n",
       "\n",
       "    .dataframe tbody tr th {\n",
       "        vertical-align: top;\n",
       "    }\n",
       "\n",
       "    .dataframe thead th {\n",
       "        text-align: right;\n",
       "    }\n",
       "</style>\n",
       "<table border=\"1\" class=\"dataframe\">\n",
       "  <thead>\n",
       "    <tr style=\"text-align: right;\">\n",
       "      <th></th>\n",
       "      <th>Location</th>\n",
       "      <th>Beer Name</th>\n",
       "      <th>Style</th>\n",
       "      <th>ABV</th>\n",
       "      <th>Link</th>\n",
       "    </tr>\n",
       "  </thead>\n",
       "  <tbody>\n",
       "    <tr>\n",
       "      <th>0</th>\n",
       "      <td>SMYRNA</td>\n",
       "      <td>JOGR</td>\n",
       "      <td>Juicy Lager</td>\n",
       "      <td>4.90%</td>\n",
       "      <td>https://reformationbrewery.com/beers/jogr/</td>\n",
       "    </tr>\n",
       "    <tr>\n",
       "      <th>1</th>\n",
       "      <td>SMYRNA</td>\n",
       "      <td>Oren</td>\n",
       "      <td>Pale Ale - American</td>\n",
       "      <td>5%</td>\n",
       "      <td>https://reformationbrewery.com/beers/oren-pal...</td>\n",
       "    </tr>\n",
       "    <tr>\n",
       "      <th>2</th>\n",
       "      <td>SMYRNA</td>\n",
       "      <td>A Cold One</td>\n",
       "      <td>Lager - Pale</td>\n",
       "      <td>4.40%</td>\n",
       "      <td>https://reformationbrewery.com/beers/a-cold-o...</td>\n",
       "    </tr>\n",
       "    <tr>\n",
       "      <th>3</th>\n",
       "      <td>SMYRNA</td>\n",
       "      <td>Silver Comet – Nolan V.10</td>\n",
       "      <td>IPA - New England</td>\n",
       "      <td>7.20%</td>\n",
       "      <td>https://reformationbrewery.com/beers/silver-c...</td>\n",
       "    </tr>\n",
       "    <tr>\n",
       "      <th>4</th>\n",
       "      <td>SMYRNA</td>\n",
       "      <td>Jude</td>\n",
       "      <td>Belgian-Style Tripel</td>\n",
       "      <td>9.20%</td>\n",
       "      <td>https://reformationbrewery.com/beers/jude/</td>\n",
       "    </tr>\n",
       "  </tbody>\n",
       "</table>\n",
       "</div>"
      ],
      "text/plain": [
       "  Location                   Beer Name                  Style    ABV  \\\n",
       "0   SMYRNA                        JOGR            Juicy Lager  4.90%   \n",
       "1   SMYRNA                        Oren    Pale Ale - American     5%   \n",
       "2   SMYRNA                  A Cold One           Lager - Pale  4.40%   \n",
       "3   SMYRNA   Silver Comet – Nolan V.10      IPA - New England  7.20%   \n",
       "4   SMYRNA                        Jude   Belgian-Style Tripel  9.20%   \n",
       "\n",
       "                                               Link   \n",
       "0        https://reformationbrewery.com/beers/jogr/   \n",
       "1   https://reformationbrewery.com/beers/oren-pal...  \n",
       "2   https://reformationbrewery.com/beers/a-cold-o...  \n",
       "3   https://reformationbrewery.com/beers/silver-c...  \n",
       "4        https://reformationbrewery.com/beers/jude/   "
      ]
     },
     "execution_count": 84,
     "metadata": {},
     "output_type": "execute_result"
    }
   ],
   "source": [
    "df.head()"
   ]
  },
  {
   "cell_type": "code",
   "execution_count": 85,
   "id": "617473b1-86ba-45a5-a833-c6cd1c600118",
   "metadata": {},
   "outputs": [
    {
     "name": "stdout",
     "output_type": "stream",
     "text": [
      "Location\n",
      "Beer Name\n",
      "Style\n",
      "ABV\n",
      "Link \n"
     ]
    }
   ],
   "source": [
    "for i in df.columns:\n",
    "    print(i)"
   ]
  },
  {
   "cell_type": "code",
   "execution_count": 87,
   "id": "a1c8b0db-3862-46fd-b58d-9b8581df6e45",
   "metadata": {},
   "outputs": [
    {
     "data": {
      "text/plain": [
       "0     4.90%4.90%4.90%4.90%4.90%4.90%4.90%4.90%4.90%4...\n",
       "1     5%5%5%5%5%5%5%5%5%5%5%5%5%5%5%5%5%5%5%5%5%5%5%...\n",
       "2     4.40%4.40%4.40%4.40%4.40%4.40%4.40%4.40%4.40%4...\n",
       "3     7.20%7.20%7.20%7.20%7.20%7.20%7.20%7.20%7.20%7...\n",
       "4     9.20%9.20%9.20%9.20%9.20%9.20%9.20%9.20%9.20%9...\n",
       "                            ...                        \n",
       "67    4%4%4%4%4%4%4%4%4%4%4%4%4%4%4%4%4%4%4%4%4%4%4%...\n",
       "68    4.70%4.70%4.70%4.70%4.70%4.70%4.70%4.70%4.70%4...\n",
       "69    9.50%9.50%9.50%9.50%9.50%9.50%9.50%9.50%9.50%9...\n",
       "70    6.60%6.60%6.60%6.60%6.60%6.60%6.60%6.60%6.60%6...\n",
       "71    7.60%7.60%7.60%7.60%7.60%7.60%7.60%7.60%7.60%7...\n",
       "Name: ABV, Length: 72, dtype: object"
      ]
     },
     "execution_count": 87,
     "metadata": {},
     "output_type": "execute_result"
    }
   ],
   "source": []
  },
  {
   "cell_type": "code",
   "execution_count": 52,
   "id": "4c00c79c-37c8-4b40-8c2a-1f57f4e48ee4",
   "metadata": {},
   "outputs": [
    {
     "data": {
      "text/html": [
       "<div>\n",
       "<style scoped>\n",
       "    .dataframe tbody tr th:only-of-type {\n",
       "        vertical-align: middle;\n",
       "    }\n",
       "\n",
       "    .dataframe tbody tr th {\n",
       "        vertical-align: top;\n",
       "    }\n",
       "\n",
       "    .dataframe thead th {\n",
       "        text-align: right;\n",
       "    }\n",
       "</style>\n",
       "<table border=\"1\" class=\"dataframe\">\n",
       "  <thead>\n",
       "    <tr style=\"text-align: right;\">\n",
       "      <th></th>\n",
       "      <th>ABV</th>\n",
       "    </tr>\n",
       "  </thead>\n",
       "  <tbody>\n",
       "    <tr>\n",
       "      <th>count</th>\n",
       "      <td>72.000000</td>\n",
       "    </tr>\n",
       "    <tr>\n",
       "      <th>mean</th>\n",
       "      <td>0.065083</td>\n",
       "    </tr>\n",
       "    <tr>\n",
       "      <th>std</th>\n",
       "      <td>0.022509</td>\n",
       "    </tr>\n",
       "    <tr>\n",
       "      <th>min</th>\n",
       "      <td>0.000000</td>\n",
       "    </tr>\n",
       "    <tr>\n",
       "      <th>25%</th>\n",
       "      <td>0.048000</td>\n",
       "    </tr>\n",
       "    <tr>\n",
       "      <th>50%</th>\n",
       "      <td>0.060500</td>\n",
       "    </tr>\n",
       "    <tr>\n",
       "      <th>75%</th>\n",
       "      <td>0.078250</td>\n",
       "    </tr>\n",
       "    <tr>\n",
       "      <th>max</th>\n",
       "      <td>0.120000</td>\n",
       "    </tr>\n",
       "  </tbody>\n",
       "</table>\n",
       "</div>"
      ],
      "text/plain": [
       "             ABV\n",
       "count  72.000000\n",
       "mean    0.065083\n",
       "std     0.022509\n",
       "min     0.000000\n",
       "25%     0.048000\n",
       "50%     0.060500\n",
       "75%     0.078250\n",
       "max     0.120000"
      ]
     },
     "execution_count": 52,
     "metadata": {},
     "output_type": "execute_result"
    }
   ],
   "source": [
    "df.describe()"
   ]
  },
  {
   "cell_type": "code",
   "execution_count": 53,
   "id": "8506d59e-e4c4-45c0-9a47-ad27b8166dc4",
   "metadata": {},
   "outputs": [
    {
     "data": {
      "text/plain": [
       "array(['WOODSTOCK', 'CANTON', 'SMYRNA'], dtype=object)"
      ]
     },
     "execution_count": 53,
     "metadata": {},
     "output_type": "execute_result"
    }
   ],
   "source": [
    "df[\"Location\"].unique()"
   ]
  },
  {
   "cell_type": "code",
   "execution_count": 54,
   "id": "cd41159b-3b87-4168-82ad-ac93dc070745",
   "metadata": {},
   "outputs": [
    {
     "data": {
      "text/plain": [
       "WOODSTOCK    28\n",
       "CANTON       24\n",
       "SMYRNA       20\n",
       "Name: Location, dtype: int64"
      ]
     },
     "execution_count": 54,
     "metadata": {},
     "output_type": "execute_result"
    }
   ],
   "source": [
    "df[\"Location\"].value_counts()"
   ]
  },
  {
   "cell_type": "code",
   "execution_count": 55,
   "id": "029c2d7f-4ffe-4fb2-b6e7-18b9eac34cc4",
   "metadata": {},
   "outputs": [],
   "source": [
    "Woodstock = df[df[\"Location\"] == \"WOODSTOCK\"]"
   ]
  },
  {
   "cell_type": "code",
   "execution_count": 56,
   "id": "2bdf2072-815c-4e50-b8d0-d224d0fe99fa",
   "metadata": {},
   "outputs": [
    {
     "data": {
      "text/plain": [
       "Location          object\n",
       " Beer Name        object\n",
       " Style            object\n",
       "Generic Style     object\n",
       " ABV             float64\n",
       " Link             object\n",
       "dtype: object"
      ]
     },
     "execution_count": 56,
     "metadata": {},
     "output_type": "execute_result"
    }
   ],
   "source": [
    "Woodstock.dtypes"
   ]
  },
  {
   "cell_type": "code",
   "execution_count": 57,
   "id": "1019e819-8bf4-41b9-9f73-f6aa74536998",
   "metadata": {},
   "outputs": [
    {
     "data": {
      "text/plain": [
       " IPA - American                          3\n",
       " Bi√®re de Champagne / Bi√®re Brut       2\n",
       " Farmhouse Ale - Saison                  2\n",
       " Pale Ale - American                     2\n",
       " IPA - Imperial / Double                 1\n",
       " Belgian-Style Tripel                    1\n",
       " Blackberry & Blueberry Lemonade Sour    1\n",
       " Wheat Beer - Wheat Wine                 1\n",
       " Sour - Fruited                          1\n",
       " Gluten-Free                             1\n",
       " Lager - Pale                            1\n",
       " Wheat Beer - Witbier                    1\n",
       " IPA - New England                       1\n",
       " Hard Seltzer                            1\n",
       " Stout - Russian Imperial                1\n",
       " Pecan Doppelbock                        1\n",
       " BA Coffee Porter w/Vanilla              1\n",
       " Juicy Lager                             1\n",
       " Belgian Tripel                          1\n",
       " Toasted Porter                          1\n",
       " Belgian Dubbel                          1\n",
       " IPA - Milkshake                         1\n",
       " Sour with White Tea                     1\n",
       "Name:  Style, dtype: int64"
      ]
     },
     "execution_count": 57,
     "metadata": {},
     "output_type": "execute_result"
    }
   ],
   "source": [
    "Woodstock[\" Style\"].value_counts()"
   ]
  },
  {
   "cell_type": "code",
   "execution_count": 60,
   "id": "1e64ec63-83e9-45ea-ba77-d930b9313f75",
   "metadata": {},
   "outputs": [
    {
     "data": {
      "text/plain": [
       "<AxesSubplot:>"
      ]
     },
     "execution_count": 60,
     "metadata": {},
     "output_type": "execute_result"
    },
    {
     "data": {
      "image/png": "[encoded data removed]",
      "text/plain": [
       "<Figure size 432x288 with 1 Axes>"
      ]
     },
     "metadata": {
      "needs_background": "light"
     },
     "output_type": "display_data"
    }
   ],
   "source": [
    "Woodstock[\" Style\"].value_counts().plot(kind=\"barh\")"
   ]
  },
  {
   "cell_type": "code",
   "execution_count": 67,
   "id": "7ea5f1a7-ab63-4367-b27d-baff45a9cc61",
   "metadata": {},
   "outputs": [
    {
     "data": {
      "text/plain": [
       "Text(0, 0.5, 'ABV')"
      ]
     },
     "execution_count": 67,
     "metadata": {},
     "output_type": "execute_result"
    },
    {
     "data": {
      "image/png": "[encoded data removed]",
      "text/plain": [
       "<Figure size 432x288 with 1 Axes>"
      ]
     },
     "metadata": {
      "needs_background": "light"
     },
     "output_type": "display_data"
    }
   ],
   "source": [
    "Woodstock[\" ABV\"].plot(kind='bar', )\n",
    "plt.xlabel(\"Beer\")\n",
    "plt.ylabel(\"ABV\")"
   ]
  },
  {
   "cell_type": "code",
   "execution_count": null,
   "id": "4b17cb14-7d7f-4038-8d90-c1e2ea1ada7b",
   "metadata": {},
   "outputs": [],
   "source": []
  },
  {
   "cell_type": "code",
   "execution_count": null,
   "id": "64522a8a-9038-4108-a8dd-68bd5373fd04",
   "metadata": {},
   "outputs": [],
   "source": []
  }
 ],
 "metadata": {
  "kernelspec": {
   "display_name": "Python 3",
   "language": "python",
   "name": "python3"
  },
  "language_info": {
   "codemirror_mode": {
    "name": "ipython",
    "version": 3
   },
   "file_extension": ".py",
   "mimetype": "text/x-python",
   "name": "python",
   "nbconvert_exporter": "python",
   "pygments_lexer": "ipython3",
   "version": "3.9.5"
  }
 },
 "nbformat": 4,
 "nbformat_minor": 5
}
